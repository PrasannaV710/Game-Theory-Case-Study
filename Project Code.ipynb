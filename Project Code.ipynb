{
  "cells": [
    {
      "metadata": {
        "trusted": true
      },
      "cell_type": "code",
      "source": "def dollar(num):\n y=float(num)\n print(num,\"becomes $%0.2f\"%y)\nnum=input(\"Enter the payment amount : \")\ndollar(num)",
      "execution_count": 8,
      "outputs": [
        {
          "output_type": "stream",
          "name": "stdout",
          "text": "Enter the payment amount : 34\n34 becomes $34.00\n"
        }
      ]
    },
    {
      "metadata": {
        "trusted": true
      },
      "cell_type": "code",
      "source": "\n\ndef atarget(a,target):\n for i in range(0,len(a)):\n  for j in range(i+1,len(a)):\n   if(a[i]+a[j]==target):\n    print(\"The two indices are\",i,\"and\",j)\na=[2,7,11,15]\ntarget=int(input(\"Enter your target here : \")) \natarget(a,target)\n\n    ",
      "execution_count": 22,
      "outputs": [
        {
          "output_type": "stream",
          "name": "stdout",
          "text": "Enter your target here : 22\nThe two indices are 1 and 3\n"
        }
      ]
    },
    {
      "metadata": {
        "trusted": true
      },
      "cell_type": "code",
      "source": "str1=input(\"Enter the first string : \")\nstr2=input(\"Enter the second string : \")\ntemp1={}\ntemp2={}\nfor i in range (0,len(str1)):\n  temp1[i]=str1[i]\n  temp2[i]=str2[i]\ntemp1[0]=0\ntemp2[0]=0\nfor j in range (1,len(temp1)):\n if(str1[j]==str1[j-1]):\n  temp1[j]=temp1[j-1]\n else:\n  temp1[j]=j\n    \nfor k in range (1,len(temp2)):\n if(str2[k]==str2[k-1]):\n  temp2[k]=temp2[k-1]\n else:\n  temp2[k]=k\n    \nif(temp1==temp2):\n print(\"The Strings are isomorphic\")\nelse :\n print(\"Not isomorphic\")\n\n\n",
      "execution_count": null,
      "outputs": []
    },
    {
      "metadata": {
        "trusted": true
      },
      "cell_type": "code",
      "source": "n=int(input(\"Enter the number of stairs : \"))\ncount=0\na={}\nfor k in range(0,n):\n    a[k]=0\nfor i in range(0,n):\n  for j in range(i+1,n):\n    if(((j-i)==1)or((j-i)==2)):\n       count=count+1\nprint(\"The number of ways to climb the stairs is \",count)",
      "execution_count": null,
      "outputs": []
    },
    {
      "metadata": {
        "trusted": true
      },
      "cell_type": "code",
      "source": "a=\"The bird was in the parking lot at North Chagrin Reservation foraging under a sycamore tree\" \nif(a.find(\"Reservation\")==0):\n print(\"No\")\nelse :\n    print(\"yes\")",
      "execution_count": 53,
      "outputs": [
        {
          "output_type": "stream",
          "text": "yes\n",
          "name": "stdout"
        }
      ]
    },
    {
      "metadata": {
        "trusted": true
      },
      "cell_type": "code",
      "source": "\n",
      "execution_count": 15,
      "outputs": [
        {
          "output_type": "stream",
          "text": "\n",
          "name": "stdout"
        }
      ]
    },
    {
      "metadata": {
        "trusted": true
      },
      "cell_type": "code",
      "source": "import pandas as pd\nimport numpy as np\na=[]\ndef sum(i):\n switcher={\n                'O-':\"100\\n\",\n                'A':\"90-99\\n\",\n                'B+':\"80-89\\n\",\n                'B':\"70-79\\n\",\n                'C':\"60-69\\n\",\n                'P':\"50-59\\n\",\n                'F':\"0-49\\n\"\n          }\n return switcher\nf1 = open(\"grades.txt\",\"r\")\nf2=open(\"marks.txt\",\"w\")\n\ngrade=pd.read_csv(\"grades.txt\")\na=grade.iloc[:].values\np=dict(a).Toarray()\nfor y in p:\n    f2.write(sum(p))",
      "execution_count": 74,
      "outputs": [
        {
          "output_type": "error",
          "ename": "ValueError",
          "evalue": "dictionary update sequence element #0 has length 1; 2 is required",
          "traceback": [
            "\u001b[0;31m---------------------------------------------------------------------------\u001b[0m",
            "\u001b[0;31mValueError\u001b[0m                                Traceback (most recent call last)",
            "\u001b[0;32m<ipython-input-74-cd7a7a537974>\u001b[0m in \u001b[0;36m<module>\u001b[0;34m\u001b[0m\n\u001b[1;32m     18\u001b[0m \u001b[0mgrade\u001b[0m\u001b[0;34m=\u001b[0m\u001b[0mpd\u001b[0m\u001b[0;34m.\u001b[0m\u001b[0mread_csv\u001b[0m\u001b[0;34m(\u001b[0m\u001b[0;34m\"grades.txt\"\u001b[0m\u001b[0;34m)\u001b[0m\u001b[0;34m\u001b[0m\u001b[0m\n\u001b[1;32m     19\u001b[0m \u001b[0ma\u001b[0m\u001b[0;34m=\u001b[0m\u001b[0mgrade\u001b[0m\u001b[0;34m.\u001b[0m\u001b[0miloc\u001b[0m\u001b[0;34m[\u001b[0m\u001b[0;34m:\u001b[0m\u001b[0;34m]\u001b[0m\u001b[0;34m.\u001b[0m\u001b[0mvalues\u001b[0m\u001b[0;34m\u001b[0m\u001b[0m\n\u001b[0;32m---> 20\u001b[0;31m \u001b[0mp\u001b[0m\u001b[0;34m=\u001b[0m\u001b[0mdict\u001b[0m\u001b[0;34m(\u001b[0m\u001b[0ma\u001b[0m\u001b[0;34m)\u001b[0m\u001b[0;34m.\u001b[0m\u001b[0mToarray\u001b[0m\u001b[0;34m(\u001b[0m\u001b[0mlen\u001b[0m\u001b[0;34m(\u001b[0m\u001b[0;36m2\u001b[0m\u001b[0;34m)\u001b[0m\u001b[0;34m)\u001b[0m\u001b[0;34m\u001b[0m\u001b[0m\n\u001b[0m\u001b[1;32m     21\u001b[0m \u001b[0;32mfor\u001b[0m \u001b[0my\u001b[0m \u001b[0;32min\u001b[0m \u001b[0mp\u001b[0m\u001b[0;34m:\u001b[0m\u001b[0;34m\u001b[0m\u001b[0m\n\u001b[1;32m     22\u001b[0m     \u001b[0mf2\u001b[0m\u001b[0;34m.\u001b[0m\u001b[0mwrite\u001b[0m\u001b[0;34m(\u001b[0m\u001b[0msum\u001b[0m\u001b[0;34m(\u001b[0m\u001b[0mp\u001b[0m\u001b[0;34m)\u001b[0m\u001b[0;34m)\u001b[0m\u001b[0;34m\u001b[0m\u001b[0m\n",
            "\u001b[0;31mValueError\u001b[0m: dictionary update sequence element #0 has length 1; 2 is required"
          ]
        }
      ]
    },
    {
      "metadata": {
        "trusted": true
      },
      "cell_type": "code",
      "source": "x",
      "execution_count": 54,
      "outputs": [
        {
          "output_type": "execute_result",
          "execution_count": 54,
          "data": {
            "text/plain": "array([['O-'],\n       ['A'],\n       ['B+'],\n       ['B'],\n       ['C'],\n       ['P'],\n       ['F']], dtype=object)"
          },
          "metadata": {}
        }
      ]
    },
    {
      "metadata": {
        "trusted": true
      },
      "cell_type": "code",
      "source": "def sum(i):\n    switcher={\n                'O':\"100\\n\",\n                'A':\"90-99\\n\",\n                'B+':\"80-89\\n\",\n                'B':\"70-79\\n\",\n                'C':\"60-69\\n\",\n                'P':\"50-59\\n\",\n                'F':\"0-49\\n\"\n             }\n    return switcher.get(i,\"Invalid\")\ns=input(\"Enter file name\")\na=[]\ni=0\ntry:\n    f=open(s,'rt')\n    for x in f:\n        a.append(x.strip(\"\\n\"))\nexcept IOError:\n    print(\"Not exists\")\nprint(a)\ns1=input(\"Enter output files\")\nf1=open(s1,'w')\nfor y in a:\n\n    f1.write(sum(y))\n    ",
      "execution_count": null,
      "outputs": []
    },
    {
      "metadata": {
        "trusted": true
      },
      "cell_type": "code",
      "source": "fname=input(\"Enter the file name\")\nfile = open(fname,\"w\") \n \nfile.write(\"O \\n\")\nfile.write(\"A \\n\") \nfile.write(\"B+ \\n\") \nfile.write(\"B \\n\")\nfile.write(\"C \\n\")\nfile.write(\"P \\n\")\nfile.write(\"F \\n\")\n\nfile.close()\n\nf=open(fname,\"r\")\nfw=open(\"marks.txt\",\"w\")\nline=f.readline()\nwhile line:\n    if(line==\"O \\n\"):\n        fw.write(\"100 \\n\")\n    elif(line==\"A \\n\"):\n        fw.write(\"90-99 \\n\")\n    elif(line==\"B+ \\n\"):\n        fw.write(\"80-89 \\n\")\n    elif(line==\"B \\n\"):\n        fw.write(\"70-79 \\n\")\n    elif(line==\"C \\n\"):\n        fw.write(\"60-69 \\n\")\n    elif(line==\"P \\n\"):\n        fw.write(\"50-59 \\n\")\n    else:\n        fw.write(\"0-49 \\n\")\n    line=f.readline()\nfw.close()\nfr=open(\"marks.txt\",\"r\")\nprint(fr.read())",
      "execution_count": 1,
      "outputs": [
        {
          "output_type": "stream",
          "name": "stdout",
          "text": "Enter the file namegrades.txt\n100 \n90-99 \n80-89 \n70-79 \n60-69 \n50-59 \n0-49 \n\n"
        }
      ]
    },
    {
      "metadata": {
        "trusted": true
      },
      "cell_type": "code",
      "source": "import numpy as np\nimport matplotlib.pyplot as plt\nfname=input(\"Enter the file name:\")\nf1=open(fname,\"w\")\nf1.write(\"16401,Ajay,M,System Manager,10000 \\n\")\nf1.write(\"16402,Rahul,M,Programming Analyst,20000 \\n\")\nf1.write(\"16403,Srinidhi,F,HR,5000 \\n\")\nf1.close()\nfr=open(fname,\"r\")\nfw=open(\"payslip.txt\",\"w\")\nnet=[]\nfor line in fr:\n    line=line.strip('\\n')\n    string=line.split(',')\n    bp=int(string[4])\n    da=0.20*bp\n    hra=0.10*bp\n    netpay=bp+da+hra\n    write=string[1]+\" \"+string[4]+\" \"+str(bp)+\" \"+str(da)+\" \"+str(hra)+\" \"+str(netpay)+\"\\n\"\n    net.append(netpay)\n    fw.write(write)\nfw.close()\ntry:\n    f2=open(\"payslip.txt\",\"r\")\n    print(f2.read())\nexcept:\n    print(\"An error occured during opening the file in read mode\")\ny=[5000,15000,30000]\nnet=np.arange(len(net))\nplt.bar(net,y)",
      "execution_count": null,
      "outputs": []
    },
    {
      "metadata": {
        "trusted": true
      },
      "cell_type": "code",
      "source": "",
      "execution_count": null,
      "outputs": []
    },
    {
      "metadata": {
        "trusted": true
      },
      "cell_type": "code",
      "source": "",
      "execution_count": null,
      "outputs": []
    },
    {
      "metadata": {
        "trusted": true
      },
      "cell_type": "code",
      "source": "fopen=open(\"input.txt\",\"r\")\nline=fopen.readline()\nfout=open(\"output.txt\",\"w\")\n\n   for line in fopen:\n    \n    if(line[0]!='#'):\n        print(line.replace('add( a, b)','(a+b)'))\n    \nfout.close()\n",
      "execution_count": null,
      "outputs": []
    },
    {
      "metadata": {
        "trusted": true
      },
      "cell_type": "code",
      "source": "def rearranger(k,n1,n2,n3,n4,n5):\n    n=[n1,n2,n3,n4,n5]\n    i=0\n    while(i<120):\n        for(x in range(4)):\n         concat[i]=n[4]*10000+n[]*1000+n[3]*100+n[2]*10+n[1] \n        \n    ",
      "execution_count": null,
      "outputs": []
    },
    {
      "metadata": {
        "trusted": true
      },
      "cell_type": "code",
      "source": "a=[0][0]*1\ndef luckySeven(a):\n    i=0\n    j=0\n    for i  in range(5):\n        for j in range(5):\n            ",
      "execution_count": null,
      "outputs": []
    },
    {
      "metadata": {
        "trusted": true
      },
      "cell_type": "code",
      "source": "def blotto(A,B, a_name='', b_name=''):\n    \"\"\"execute a colonel blotto battle between A & B players\"\"\"\n    if(len(A) != len(B)):\n       print('fronts mismatch')\n       return\n    if (a_name == '') & (b_name == ''): \n        text = False \n    else: text = True\n    \n    battles = [0,0]\n\n    for i in range(len(A)):\n        if A[i] > B[i]: battles[0] += 1\n        if A[i] < B[i]: battles[1] += 1\n\n    if battles[0] > battles[1]: \n        if text: print(a_name, \" wins vs \", b_name)\n        return [1,0]\n    if battles[0] < battles[1]: \n        if text: print(b_name, \" wins vs \", a_name)\n        return [0,1]\n    if battles[0] == battles[1]: \n        if text: print(a_name, \" ties \", b_name)\n        return [0,0]\n\n    \ndef battle(L):\n    end = len(L)\n    N = list(range(end)) \n\n    score = [0 for i in N]\n\n    for i in N:\n        for j in N[i+1:]:  \n            score[i] += blotto(L[i],L[j], 'team' + str(i+1), 'team'+ str(j+1))[0] \n            score[j] += blotto(L[i],L[j])[1]\n                \n    return score\n\ndef contest(players):\n    \n    for match in players:\n        num = players.index(match)\n        num += 1\n        team = 'team{}'.format(num)\n        strategy = ''\n        for j in match:\n            strategy = strategy + '\\t' + str(j)\n        \n        print(team, strategy, '\\n')\n    \n    results = battle(players)\n    scores, banner = '\\t', '\\t'\n    \n    for i in range(len(players)):\n        banner = banner + 'team{}'.format(str(i+1)) + '\\t'\n        scores = scores + str(results[i]) + '\\t'\n    \n    print('\\nSCOREBOARD\\n', banner, '\\n', scores, '\\n')\n    \n    return '\\n\\n\\n'\n\n# To run a sample contest, first enter a few strategies in a list:\n\nmatch_a = [\n            [2,0],\n            [1,1],\n          ]\n\nmatch_b = [\n            [20,20,20,20,20],\n            [30,30,30,10,0],\n          ]\n\nmatch_c = [\n            [1,2,3],\n            [2,3,1],\n            [3,1,2],\n          ]\n\nmatch_d = [\n            [0,0,6],\n            [2,4,0],\n            [3,3,3],\n          ]\n\nmatch_e = [ \n            [10,10,10,10,10,10,10,10,10,10],\n            [9,9,9,9,9,9,9,9,9,19],\n            [9,11,9,11,9,11,9,8,0,20],\n            [20,0,19,1,18,2,17,3,16,4],\n          ]\n\nmatch_f = [ \n            [10,10,10,10,10,10,10,10,10,10, 0],\n            [9,9,9,9,9,9,9,9,9,19, 0],\n            [9,11,9,11,9,11,9,8,0,20, 0],\n            [20,0,19,1,18,2,17,3,16,3,1],\n          ]\n\nmatch_g = [\n            [2,2,2,2,2],\n            [4,3,3,0,0],\n          ]\n\n      \nprint(contest(match_a))\nprint(contest(match_b))\nprint(contest(match_c))\nprint(contest(match_d))\nprint(contest(match_e))\nprint(contest(match_f))\nprint(contest(match_g))",
      "execution_count": 1,
      "outputs": [
        {
          "output_type": "stream",
          "text": "team1 \t2\t0 \n\nteam2 \t1\t1 \n\nteam1  ties  team2\n\nSCOREBOARD\n \tteam1\tteam2\t \n \t0\t0\t \n\n\n\n\n\nteam1 \t20\t20\t20\t20\t20 \n\nteam2 \t30\t30\t30\t10\t0 \n\nteam2  wins vs  team1\n\nSCOREBOARD\n \tteam1\tteam2\t \n \t0\t1\t \n\n\n\n\n\nteam1 \t1\t2\t3 \n\nteam2 \t2\t3\t1 \n\nteam3 \t3\t1\t2 \n\nteam2  wins vs  team1\nteam1  wins vs  team3\nteam3  wins vs  team2\n\nSCOREBOARD\n \tteam1\tteam2\tteam3\t \n \t1\t1\t1\t \n\n\n\n\n\nteam1 \t0\t0\t6 \n\nteam2 \t2\t4\t0 \n\nteam3 \t3\t3\t3 \n\nteam2  wins vs  team1\nteam3  wins vs  team1\nteam3  wins vs  team2\n\nSCOREBOARD\n \tteam1\tteam2\tteam3\t \n \t0\t1\t2\t \n\n\n\n\n\nteam1 \t10\t10\t10\t10\t10\t10\t10\t10\t10\t10 \n\nteam2 \t9\t9\t9\t9\t9\t9\t9\t9\t9\t19 \n\nteam3 \t9\t11\t9\t11\t9\t11\t9\t8\t0\t20 \n\nteam4 \t20\t0\t19\t1\t18\t2\t17\t3\t16\t4 \n\nteam1  wins vs  team2\nteam1  wins vs  team3\nteam1  ties  team4\nteam3  wins vs  team2\nteam2  ties  team4\nteam3  ties  team4\n\nSCOREBOARD\n \tteam1\tteam2\tteam3\tteam4\t \n \t2\t0\t1\t0\t \n\n\n\n\n\nteam1 \t10\t10\t10\t10\t10\t10\t10\t10\t10\t10\t0 \n\nteam2 \t9\t9\t9\t9\t9\t9\t9\t9\t9\t19\t0 \n\nteam3 \t9\t11\t9\t11\t9\t11\t9\t8\t0\t20\t0 \n\nteam4 \t20\t0\t19\t1\t18\t2\t17\t3\t16\t3\t1 \n\nteam1  wins vs  team2\nteam1  wins vs  team3\nteam4  wins vs  team1\nteam3  wins vs  team2\nteam4  wins vs  team2\nteam4  wins vs  team3\n\nSCOREBOARD\n \tteam1\tteam2\tteam3\tteam4\t \n \t2\t0\t1\t3\t \n\n\n\n\n\nteam1 \t2\t2\t2\t2\t2 \n\nteam2 \t4\t3\t3\t0\t0 \n\nteam2  wins vs  team1\n\nSCOREBOARD\n \tteam1\tteam2\t \n \t0\t1\t \n\n\n\n\n\n",
          "name": "stdout"
        }
      ]
    },
    {
      "metadata": {
        "trusted": true
      },
      "cell_type": "code",
      "source": "",
      "execution_count": null,
      "outputs": []
    },
    {
      "metadata": {
        "trusted": true
      },
      "cell_type": "markdown",
      "source": ""
    },
    {
      "metadata": {
        "trusted": true
      },
      "cell_type": "markdown",
      "source": "a=[] b=[] def static_strategy(soldiers,n): for i in range(n): x=soldiers/n b.append(x) def scoreboard(a,b): count_user=0 count_computer=0 for i in range(n): if(a[i]>b[i]): count_user+=1 elif(a[i]<b[i]): count_computer+=1 print(\"\\n\") print(\"SCOREBOARD\") print(\"-----------\") print(name,\" ----> \",count_user) print(\"Computer ----> \",count_computer) if(count_user>count_computer): print(name,\" WINS vs Computer\") elif(count_computer>count_user): print(\"Computer wins vs \",name) else: print(\"The game ties\") print(\"\\n\") print(\" Welcome to the Interactive Colonel Blotto Game \") print(\"------------------------------------------------------------------------------------------------------------------------\") name=input(\"Enter the Player's Name : \") n=int(input(\"How many battlefields you are going to fight ? : \")) print(\"Enter a random number from\",n,\"to 100 here : \") soldiers=int(input()) print(\"\\n\") print(\" So, you can use\",soldiers,\"soldiers over all the battlefields, use it wisely my friend\") print(\"\\n\") ch=input(\" Are you ready to enter into the battlefield? (y for YES and n for NO) : \") print(\"\\n\") if(ch==\"n\"): print(\"Thank you for playing Colonel Blotto Game \")\nelse : print(\"This is your turn to allocate soldiers to the Battlefield\",name) print(\"\\n\") sum=0 for i in range(n): print(\"BattleField\",i+1,\" : \") x=int(input()) a.append(x) sum+=x if(sum==soldiers): static_strategy(soldiers,n) scoreboard(a,b) elif(sum<soldiers): print(\"Sorry you have not used all the soldiers you have, so allocate the soldiers again :)\") sum=0 for i in range(n): print(\"BattleField\",i+1,\" : \") x=int(input()) a.append(x) sum+=a[i] else: print(\"Sorry you have exceeded the number of soldiers you can use, so allocate the soldiers again :)\") sum=0 for i in range(n): print(\"BattleField\",i+1,\" : \") x=int(input()) a.append(x) sum+=a[i]\n\n\n​\n\n​\n"
    },
    {
      "metadata": {
        "trusted": true
      },
      "cell_type": "code",
      "source": "import math\na=[]\nb=[]\ndef static_strategy(soldiers,n):\n    flag=0\n    file=open(\"strategies.txt\",\"a\")\n    for i in range(n):\n        x=int(soldiers/n)\n        b.append(x)\n        file.write('%d ' % x)    \ndef counter_strategy(soldiers,n):\n    flag=0\n    file=open(\"strategies.txt\",\"a\")\n    j=0\n    b.append(a[j])\n    file.write('%d ' % a[j])\n    for i in range(1,n):\n        b.append(a[i]+1)\n        file.write('%d ' % (a[i]+1))\n        if(b[j]!=0):\n            b[j]-=1\n        else:\n            j+=1\n            b[j]-=1 \ndef peter_strategy(soldiers,n):\n    flag=0\n    file=open(\"strategies.txt\",\"a\")\n    for i in range(math.ceil(n/2)+1):\n        x=soldiers/(math.ceil(n/2)+1)\n        b.append(x)\n        file.write('%d ' % x)\n    for j in range((math.ceil(n/2)+1),n):\n        x=0\n        b.append(x) \n        file.write('%d ' % x)\ndef updated_copier_strategy(soldiers,n):\n    file=open(\"strategies.txt\",\"r\")\n    for line in file:\n        line=line.split()\n        if len(line)==(n+1):                 \n            if (line[len(line)-1]==\"1\"):\n                f=True\n                for u in range(0,len(line)-1):\n                    b.append(int(line[u]))\n                break  \ndef scoreboard(a,b):\n    file=open(\"strategies.txt\",\"a\")\n    count_user=0\n    count_computer=0\n    for i in range(n):\n        if(a[i]>b[i]):\n            count_user+=1\n        if(a[i]<b[i]):\n            count_computer+=1\n    print(\"\\n\")\n    print(\"SCOREBOARD\")\n    print(\"-----------\")\n    print(name,\" ----> \",count_user)\n    print(\"Computer ----> \",count_computer)\n    if(count_user>count_computer):\n        print(name,\" WINS vs Computer\")\n        file.write(\"0\\n\") \n    elif(count_computer>count_user):\n        print(\"Computer wins vs \",name)\n        file.write(\"1\\n\")       \n    else:\n        print(\"The game ties\")\n        file.write(\"0\\n\")            \nprint(\"\\n\")\nprint(\"                                          Welcome to the Interactive Colonel Blotto Game                              \")\nprint(\"------------------------------------------------------------------------------------------------------------------------\")\nname=input(\"Enter the Player's Name : \")\nn=int(input(\"How many battlefields you are going to fight ? : \"))\nprint(\"Enter a random number from\",n,\"to 100 here : \")\nsoldiers=int(input())\nprint(\"\\n\")\nprint(\" So, you can use\",soldiers,\"soldiers over all the battlefields, use it wisely my friend\")\nprint(\"\\n\")\nch=input(\" Are you ready to enter into the battlefield? (y for YES and n for NO) : \")\nprint(\"\\n\")\nif(ch==\"n\"):\n    print(\"Thank you for playing Colonel Blotto Game \")   \nelse :\n    print(\"This is your turn to allocate soldiers to the Battlefield\",name)\n    print(\"\\n\")\n    sum=0\n    for i in range(n):\n        print(\"BattleField\",i+1,\" : \")\n        x=int(input())\n        a.append(x)\n        sum+=x\n    if(sum==soldiers):\n        static_strategy(soldiers,n)\n        scoreboard(a,b)\n        print(\"Computer uses Static strategy here\")\n        b.clear()\n        counter_strategy(soldiers,n)\n        scoreboard(a,b)\n        print(\"Computer uses Counter strategy here\")\n        b.clear()\n        peter_strategy(soldiers,n)\n        scoreboard(a,b)\n        print(\"Computer uses Peter Strategy strategy here\")\n        b.clear()\n        updated_copier_strategy(soldiers,n)\n        scoreboard(a,b)\n        print(\"Computer uses Updated Copier strategy here\")\n        b.clear()\n    elif(sum<soldiers):\n        print(\"Sorry you have not used all the soldiers you have, so allocate the soldiers again :)\")\n        sum=0\n        for i in range(n):\n            print(\"BattleField\",i+1,\" : \")\n            x=int(input())\n            a.append(x)\n            sum+=a[i]\n        static_strategy(soldiers,n)\n        scoreboard(a,b)\n        print(\"Computer uses Static strategy here\")\n        b.clear()\n        counter_strategy(soldiers,n)\n        scoreboard(a,b)\n        print(\"Computer uses Counter strategy here\")\n        b.clear()\n        peter_strategy(soldiers,n)\n        scoreboard(a,b)\n        print(\"Computer uses Peter Strategy strategy here\")\n        b.clear()\n        updated_copier_strategy(soldiers,n)\n        scoreboard(a,b)\n        print(\"Computer uses Updated Copier strategy here\")\n        b.clear()\n    else:\n        print(\"Sorry you have exceeded the number of soldiers you can use, so allocate the soldiers again :)\")\n        sum=0\n        for i in range(n):\n            print(\"BattleField\",i+1,\" : \")\n            x=int(input())\n            a.append(x)\n            sum+=a[i]\n        static_strategy(soldiers,n)\n        scoreboard(a,b)\n        print(\"Computer uses Static strategy here\")\n        b.clear()\n        counter_strategy(soldiers,n)\n        scoreboard(a,b)\n        print(\"Computer uses Counter strategy here\")\n        b.clear()\n        peter_strategy(soldiers,n)\n        scoreboard(a,b)\n        print(\"Computer uses Peter Strategy strategy here\")\n        b.clear()\n        updated_copier_strategy(soldiers,n)\n        scoreboard(a,b)\n        print(\"Computer uses Updated Copier strategy here\")\n        b.clear()\n                \n                       \n    \n",
      "execution_count": 5,
      "outputs": [
        {
          "output_type": "stream",
          "text": "\n\n                                          Welcome to the Interactive Colonel Blotto Game                              \n------------------------------------------------------------------------------------------------------------------------\nEnter the Player's Name : Prasanna\nHow many battlefields you are going to fight ? : 5\nEnter a random number from 5 to 100 here : \n20\n\n\n So, you can use 20 soldiers over all the battlefields, use it wisely my friend\n\n\n Are you ready to enter into the battlefield? (y for YES and n for NO) : y\n\n\nThis is your turn to allocate soldiers to the Battlefield Prasanna\n\n\nBattleField 1  : \n4\nBattleField 2  : \n7\nBattleField 3  : \n3\nBattleField 4  : \n3\nBattleField 5  : \n3\n\n\nSCOREBOARD\n-----------\nPrasanna  ---->  1\nComputer ---->  3\nComputer wins vs  Prasanna\nComputer uses Static strategy here\n\n\nSCOREBOARD\n-----------\nPrasanna  ---->  1\nComputer ---->  4\nComputer wins vs  Prasanna\nComputer uses Counter strategy here\n\n\nSCOREBOARD\n-----------\nPrasanna  ---->  2\nComputer ---->  3\nComputer wins vs  Prasanna\nComputer uses Peter Strategy strategy here\n\n\nSCOREBOARD\n-----------\nPrasanna  ---->  1\nComputer ---->  3\nComputer wins vs  Prasanna\nComputer uses Updated Copier strategy here\n",
          "name": "stdout"
        }
      ]
    },
    {
      "metadata": {
        "trusted": true
      },
      "cell_type": "markdown",
      "source": "##### "
    },
    {
      "metadata": {},
      "cell_type": "markdown",
      "source": ""
    },
    {
      "metadata": {
        "trusted": true
      },
      "cell_type": "code",
      "source": "",
      "execution_count": 6,
      "outputs": [
        {
          "output_type": "stream",
          "text": "[]\n",
          "name": "stdout"
        }
      ]
    },
    {
      "metadata": {},
      "cell_type": "markdown",
      "source": ""
    },
    {
      "metadata": {
        "trusted": true
      },
      "cell_type": "code",
      "source": "",
      "execution_count": 38,
      "outputs": [
        {
          "output_type": "stream",
          "text": "[10, 11, 11, 11, 6, 6, 1, 1]\n",
          "name": "stdout"
        }
      ]
    },
    {
      "metadata": {
        "trusted": true
      },
      "cell_type": "code",
      "source": "",
      "execution_count": null,
      "outputs": []
    }
  ],
  "metadata": {
    "kernelspec": {
      "name": "python36",
      "display_name": "Python 3.6",
      "language": "python"
    },
    "language_info": {
      "mimetype": "text/x-python",
      "nbconvert_exporter": "python",
      "name": "python",
      "pygments_lexer": "ipython3",
      "version": "3.6.6",
      "file_extension": ".py",
      "codemirror_mode": {
        "version": 3,
        "name": "ipython"
      }
    }
  },
  "nbformat": 4,
  "nbformat_minor": 2
}